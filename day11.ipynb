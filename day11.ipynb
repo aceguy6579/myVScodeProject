{
 "cells": [
  {
   "cell_type": "code",
   "execution_count": null,
   "id": "102366a8",
   "metadata": {},
   "outputs": [
    {
     "name": "stdout",
     "output_type": "stream",
     "text": [
      "Good Bye!\n"
     ]
    }
   ],
   "source": [
    "# 숙제1 : \n",
    "\n",
    "q = int(input('Enter two positive integers: '))\n",
    "\n",
    "minute = q % 60\n",
    "hour = q // 60\n",
    "\n",
    "if q > 0:\n",
    "    print(f'{q} miunutes = {hour} hour {minute} minutes')\n",
    "else:\n",
    "    print('Good Bye!')"
   ]
  },
  {
   "cell_type": "markdown",
   "id": "88316753",
   "metadata": {},
   "source": [
    "# 숙제2 :"
   ]
  },
  {
   "cell_type": "code",
   "execution_count": null,
   "id": "f7270ce1",
   "metadata": {},
   "outputs": [
    {
     "name": "stdout",
     "output_type": "stream",
     "text": [
      "n1 = 1, n2 = 10 \n",
      "\n",
      "3\n",
      "8\n"
     ]
    }
   ],
   "source": [
    "# 프로토타입1 : 1과 10을 입력했을 때 3, 8 출력\n",
    "\n",
    "n1, n2 = map(int, input('Enter two positive integers: ').split())\n",
    "\n",
    "print(f'n1 = {n1}, n2 = {n2}', '\\n')\n",
    "\n",
    "for i in range(n1, n2+1):\n",
    "    if i == 3 or i == 8:\n",
    "        print(i)\n"
   ]
  },
  {
   "cell_type": "code",
   "execution_count": null,
   "id": "4c0ed1b3",
   "metadata": {},
   "outputs": [],
   "source": [
    "# 프로토타입2 : 10이상의 값을 입력했을 때 1의 자리만 출력"
   ]
  },
  {
   "cell_type": "code",
   "execution_count": 19,
   "id": "33bdab4e",
   "metadata": {},
   "outputs": [
    {
     "name": "stdout",
     "output_type": "stream",
     "text": [
      "hi\n"
     ]
    }
   ],
   "source": [
    "# 마무리 : 그 1의 자리 중 3과 8만 출력\n",
    "\n",
    "print('hi')"
   ]
  }
 ],
 "metadata": {
  "kernelspec": {
   "display_name": "Python 3",
   "language": "python",
   "name": "python3"
  },
  "language_info": {
   "codemirror_mode": {
    "name": "ipython",
    "version": 3
   },
   "file_extension": ".py",
   "mimetype": "text/x-python",
   "name": "python",
   "nbconvert_exporter": "python",
   "pygments_lexer": "ipython3",
   "version": "3.14.0"
  }
 },
 "nbformat": 4,
 "nbformat_minor": 5
}
