{
 "cells": [
  {
   "cell_type": "code",
   "execution_count": null,
   "id": "0048fd14",
   "metadata": {},
   "outputs": [
    {
     "name": "stdout",
     "output_type": "stream",
     "text": [
      "hi\n"
     ]
    }
   ],
   "source": [
    "print('hi')             "
   ]
  },
  {
   "cell_type": "code",
   "execution_count": null,
   "id": "8990ac5c",
   "metadata": {},
   "outputs": [
    {
     "name": "stdout",
     "output_type": "stream",
     "text": [
      "4 is a factor of 16\n"
     ]
    }
   ],
   "source": [
    "# 사용자에게 자연수 2개를 입력받아, n1이 n2의 약수인지, 배수인지, 약수도 배수도 아닌지 확인\n",
    "# 약수 : 어떤 자연수를 나머지 없이 나눌 수 있는 자연수\n",
    "# 배수 : 어떤 자연수의 몇 배가 되는 자연수\n",
    "\n",
    "n1, n2 = map(int, input('Enter two positive integers: ').split())\n",
    "\n",
    "if n1 % n2 == 0:\n",
    "    print(f'{n1} is a multiple of {n2}.') # multiple은 배수\n",
    "elif n2 % n1 == 0:\n",
    "    print(f'{n1} is a factor of {n2}') # factor은 약수\n",
    "else:\n",
    "    print(f'{n1} is neither a multiple of {n2} nor a factor.')\n",
    "\n",
    "# n2 % n1 != 0 and n1 % n2 != 0"
   ]
  },
  {
   "cell_type": "code",
   "execution_count": null,
   "id": "0a821ed9",
   "metadata": {},
   "outputs": [
    {
     "name": "stdout",
     "output_type": "stream",
     "text": [
      "평균점수 : 83.3, B등급\n"
     ]
    }
   ],
   "source": [
    "# 국, 영, 수 평균을 구하고 각각의 평균 점수와 등급을 적으시오\n",
    "# 만약 0 ~ 100의 숫자가 아닌 다른 숫자를 입력하면 다시 입력하시오가 나오게 하시오\n",
    "\n",
    "국어 = int(input('Enter the Korean score: '))\n",
    "영어 = int(input('Enter the English score: '))\n",
    "수학 = int(input('Enter the Math score: '))\n",
    "\n",
    "average = (국어 + 영어 + 수학) / 3\n",
    "\n",
    "# 입력값 검증\n",
    "if not (0 <= 국어 <= 100) or not (0 <= 영어 <= 100) or not (0 <= 수학 <= 100):\n",
    "    print(\"❌ 점수는 0 이상 100 이하의 값만 입력해야 합니다!, 다시 입력하시오\")\n",
    "\n",
    "else:\n",
    "    if average >= 90:\n",
    "        print(f'평균점수 : {average:.1f}, A등급')\n",
    "    elif 80 <= average < 90:\n",
    "        print(f'평균점수 : {average:.1f}, B등급')\n",
    "    elif 70 <= average < 80:\n",
    "        print(f'평균점수 : {average:.1f}, C등급')\n",
    "    elif 60 <= average < 70:\n",
    "        print(f'평균점수 : {average:.1f}, D등급')\n",
    "    else:\n",
    "        print(f'평균점수 : {average:.1f}, F등급')"
   ]
  },
  {
   "cell_type": "code",
   "execution_count": 34,
   "id": "48bc61ef",
   "metadata": {},
   "outputs": [
    {
     "name": "stdout",
     "output_type": "stream",
     "text": [
      "ERROR : Invalid value!\n"
     ]
    }
   ],
   "source": [
    "# 사용자에게 자연수를 입력받아 3의 배수인지 4의 배수인지 둘다인지 확인하기.\n",
    "\n",
    "n3 = int(input('Enter a positive integer: '))\n",
    "\n",
    "if n3 <= 0:\n",
    "    print('ERROR : Invalid value!')\n",
    "\n",
    "else:\n",
    "    if n3 % 3 == 0 and n3 % 4 == 0:\n",
    "        print(f'{n3} is a multiple of 3 and a multiple of 4.')\n",
    "    elif n3 % 3 == 0:\n",
    "        print(f'{n3} is a multiple of 3.')\n",
    "    elif n3 % 4 == 0:\n",
    "        print(f'{n3} is a multiple of 4.')\n",
    "    else:\n",
    "        print(f'{n3} is neither a multiple of 3 nor a multiple of 4.')"
   ]
  },
  {
   "cell_type": "code",
   "execution_count": null,
   "id": "9c31b76b",
   "metadata": {},
   "outputs": [
    {
     "name": "stdout",
     "output_type": "stream",
     "text": [
      "n4 = 7, n5 = 15\n",
      "n4 = 15, n5 = 7\n"
     ]
    }
   ],
   "source": [
    "# 사용자에게 정수 2개를 입력받아 출력하고, 두 변수를 교환(swap)\n",
    "\n",
    "n4, n5 = map(int, input('Enter two integers: ').split())\n",
    "\n",
    "print(f'n4 = {n4}, n5 = {n5}')\n",
    "\n",
    "tmporary_vaiable = n4 # 임시변수\n",
    "n4 = n5\n",
    "n5 = tmporary_vaiable\n",
    "\n",
    "print(f'n4 = {n4}, n5 = {n5}')"
   ]
  },
  {
   "cell_type": "code",
   "execution_count": null,
   "id": "509b83bf",
   "metadata": {},
   "outputs": [
    {
     "name": "stdout",
     "output_type": "stream",
     "text": [
      "n4 = 15, n5 = 7\n"
     ]
    }
   ],
   "source": [
    "# 파이썬에서 할 수 있는 다중대입\n",
    "# n4, n5 = (10, 20)\n",
    "\n",
    "#다중 대입으로 변수 n1과 n2를 교환\n",
    "n4, n5 = n4, n5\n",
    "# → n1, n2 = (n2, n1)\n",
    "# → n1, n2 = (10, 20)\n",
    "\n",
    "print(f'n4 = {n4}, n5 = {n5}')"
   ]
  }
 ],
 "metadata": {
  "kernelspec": {
   "display_name": "Python 3",
   "language": "python",
   "name": "python3"
  },
  "language_info": {
   "codemirror_mode": {
    "name": "ipython",
    "version": 3
   },
   "file_extension": ".py",
   "mimetype": "text/x-python",
   "name": "python",
   "nbconvert_exporter": "python",
   "pygments_lexer": "ipython3",
   "version": "3.14.0"
  }
 },
 "nbformat": 4,
 "nbformat_minor": 5
}
