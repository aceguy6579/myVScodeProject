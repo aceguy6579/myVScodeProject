{
 "cells": [
  {
   "cell_type": "code",
   "execution_count": 17,
   "id": "aba62357",
   "metadata": {},
   "outputs": [
    {
     "name": "stdout",
     "output_type": "stream",
     "text": [
      "0\t1\t2\t3\t4\t5\t6\t7\t8\t9\t"
     ]
    }
   ],
   "source": [
    "for i in range(10):\n",
    "    print(i, end='\\t')"
   ]
  },
  {
   "cell_type": "code",
   "execution_count": 4,
   "id": "e3cf1062",
   "metadata": {},
   "outputs": [
    {
     "name": "stdout",
     "output_type": "stream",
     "text": [
      "1\t2\t3\t4\t5\t6\t7\t8\t9\t10\t\n"
     ]
    }
   ],
   "source": [
    "for i in range(1, 11): # 1부터 10까지의 정수 생성하기\n",
    "    print(i, end='\\t')\n",
    "print()"
   ]
  },
  {
   "cell_type": "code",
   "execution_count": 25,
   "id": "4fdf3437",
   "metadata": {},
   "outputs": [
    {
     "name": "stdout",
     "output_type": "stream",
     "text": [
      "2\t4\t6\t8\t10\t12\t14\t16\t18\t20\t"
     ]
    }
   ],
   "source": [
    "# 방법1\n",
    "for i in range(2,21,2): # 1부터 20까지의 정수 중 짝수만 출력\n",
    "    print(i, end='\\t')"
   ]
  },
  {
   "cell_type": "code",
   "execution_count": null,
   "id": "88d53d54",
   "metadata": {},
   "outputs": [
    {
     "name": "stdout",
     "output_type": "stream",
     "text": [
      "2\t4\t6\t8\t10\t12\t14\t16\t18\t20\t"
     ]
    }
   ],
   "source": [
    "# 방법2\n",
    "for i in range(1, 21):\n",
    "    if i % 2 == 0:\n",
    "        print(i, end='\\t')"
   ]
  },
  {
   "cell_type": "code",
   "execution_count": null,
   "id": "9d806af6",
   "metadata": {},
   "outputs": [
    {
     "name": "stdout",
     "output_type": "stream",
     "text": [
      "2\t4\t6\t8\t10\t12\t14\t16\t18\t20\t"
     ]
    }
   ],
   "source": [
    "# 방법3\n",
    "for i in range(1, 11):\n",
    "    print(i*2, end='\\t')"
   ]
  },
  {
   "cell_type": "code",
   "execution_count": 32,
   "id": "e8c2e2d9",
   "metadata": {},
   "outputs": [
    {
     "name": "stdout",
     "output_type": "stream",
     "text": [
      "1. Hello World!\n",
      "2. Hello World!\n",
      "3. Hello World!\n",
      "4. Hello World!\n",
      "5. Hello World!\n",
      "6. Hello World!\n",
      "7. Hello World!\n",
      "8. Hello World!\n"
     ]
    }
   ],
   "source": [
    "num = int(input('Enter an integer: '))\n",
    "\n",
    "for i in range(1, num+1):\n",
    "    print(f\"{i}. Hello World!\")"
   ]
  },
  {
   "cell_type": "code",
   "execution_count": 33,
   "id": "a6eae1e0",
   "metadata": {},
   "outputs": [
    {
     "name": "stdout",
     "output_type": "stream",
     "text": [
      "1. Hello World!\n",
      "2. Hello World!\n",
      "3. Hello World!\n",
      "4. Hello World!\n",
      "5. Hello World!\n",
      "6. Hello World!\n",
      "7. Hello World!\n",
      "8. Hello World!\n"
     ]
    }
   ],
   "source": [
    "# for 구문과 range 함수로 for 구문이 사용자가 입력한 자연수만큼 반복하도록 작성\n",
    "\n",
    "for i in range(num):\n",
    "    print(f'{i + 1}. Hello World!')"
   ]
  },
  {
   "cell_type": "code",
   "execution_count": 48,
   "id": "9f151c74",
   "metadata": {},
   "outputs": [
    {
     "name": "stdout",
     "output_type": "stream",
     "text": [
      "5050\n"
     ]
    }
   ],
   "source": [
    "result= 0\n",
    "\n",
    "for i in range(1, 101):\n",
    "    result += i\n",
    "\n",
    "print(result)"
   ]
  },
  {
   "cell_type": "code",
   "execution_count": null,
   "id": "b932bccc",
   "metadata": {},
   "outputs": [
    {
     "name": "stdout",
     "output_type": "stream",
     "text": [
      "5050\n"
     ]
    }
   ],
   "source": [
    "#sum 함수로 1부터 100까지의 자연수들의 합계를 구해 출력\n",
    "\n",
    "del sum\n",
    "print(sum(range(1, 101)))"
   ]
  },
  {
   "cell_type": "code",
   "execution_count": null,
   "id": "307f72c0",
   "metadata": {},
   "outputs": [
    {
     "name": "stdout",
     "output_type": "stream",
     "text": [
      "120\n"
     ]
    }
   ],
   "source": [
    "# 사용자에게 자연수를 입력받아 그 자연수의 팩토리얼을 구해 출력\n",
    "\n",
    "num2 = int(input('Enter an integer: '))\n",
    "\n",
    "result2 = 1\n",
    "\n",
    "for i in range(1, num2 +1):\n",
    "    result2 *= i\n",
    "\n",
    "print(result2)"
   ]
  },
  {
   "cell_type": "code",
   "execution_count": 61,
   "id": "2db21be9",
   "metadata": {},
   "outputs": [
    {
     "name": "stdout",
     "output_type": "stream",
     "text": [
      "120\n",
      "Factorial 8 = 40320\n"
     ]
    }
   ],
   "source": [
    "# 파이썬 표준 라이브러리의 math 모듈을 불러오기\n",
    "\n",
    "import math\n",
    "print(math.factorial(5))\n",
    "\n",
    "print(f'Factorial {num} = {math.factorial(num)}')"
   ]
  },
  {
   "cell_type": "code",
   "execution_count": null,
   "id": "66d99e84",
   "metadata": {},
   "outputs": [],
   "source": [
    "print('hi')"
   ]
  }
 ],
 "metadata": {
  "kernelspec": {
   "display_name": "Python 3",
   "language": "python",
   "name": "python3"
  },
  "language_info": {
   "codemirror_mode": {
    "name": "ipython",
    "version": 3
   },
   "file_extension": ".py",
   "mimetype": "text/x-python",
   "name": "python",
   "nbconvert_exporter": "python",
   "pygments_lexer": "ipython3",
   "version": "3.14.0"
  }
 },
 "nbformat": 4,
 "nbformat_minor": 5
}
