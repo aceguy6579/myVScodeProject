{
 "cells": [
  {
   "cell_type": "markdown",
   "id": "69c910b8",
   "metadata": {},
   "source": [
    "# 1교시"
   ]
  },
  {
   "cell_type": "code",
   "execution_count": null,
   "id": "383c0e99",
   "metadata": {},
   "outputs": [
    {
     "name": "stdout",
     "output_type": "stream",
     "text": [
      "n1 = 5, n2 = 10 \n",
      "\n",
      "45\n"
     ]
    }
   ],
   "source": [
    "# 숙제: 자연수 2개의 값을 받아서 그 두사이의 값들을 합침\n",
    "\n",
    "n1, n2 = map(int, input('Enter two positive integers: ').split())\n",
    "\n",
    "# 출력\n",
    "print(f'n1 = {n1}, n2 = {n2}', '\\n')\n",
    "result= 0\n",
    "\n",
    "if n1 < n2:\n",
    "    for i in range(n1, n2+1):\n",
    "        result += i\n",
    "elif n1 > n2:\n",
    "    for i in range(n2, n1+1):\n",
    "        result += i\n",
    "\n",
    "print(result)"
   ]
  },
  {
   "cell_type": "code",
   "execution_count": 23,
   "id": "6312907d",
   "metadata": {},
   "outputs": [
    {
     "name": "stdout",
     "output_type": "stream",
     "text": [
      "n1 = 4, n2 = 8 \n",
      "\n",
      "60\n"
     ]
    }
   ],
   "source": [
    "# 출력\n",
    "print(f'n1 = {n1}, n2 = {n2}', '\\n')\n",
    "\n",
    "# if-else 구문으로 변수 n1과 n2 중에서 큰 수와 작은 수를 확인\n",
    "\n",
    "if n1 < n2:\n",
    "    max_, min_ = n2, n1\n",
    "else:\n",
    "    max_, min_ = n1, n2\n",
    "\n",
    "# for 구문과 range 함수로 변수 min_과 max_ 사이의 자연수들의 합계를 계산\n",
    "for i in range(min_, max_ + 1):\n",
    "    result += i\n",
    "\n",
    "print(result)\n",
    "\n"
   ]
  },
  {
   "cell_type": "code",
   "execution_count": 22,
   "id": "798382d1",
   "metadata": {},
   "outputs": [
    {
     "name": "stdout",
     "output_type": "stream",
     "text": [
      "n1 = 4, n2 = 8 \n",
      "\n",
      "30\n"
     ]
    }
   ],
   "source": [
    "# 출력\n",
    "print(f'n1 = {n1}, n2 = {n2}', '\\n')\n",
    "\n",
    "# if-else 구문으로 변수 n1이 큰 경우와 n2가 큰 경우에 따라 range 객체를 생성\n",
    "if n1 < n2:\n",
    "    integers = range(n1, n2 + 1)\n",
    "else:\n",
    "    integers = range(n2, n1 + 1)\n",
    "\n",
    "print(sum(integers))"
   ]
  },
  {
   "cell_type": "code",
   "execution_count": null,
   "id": "36cce98d",
   "metadata": {},
   "outputs": [
    {
     "name": "stdout",
     "output_type": "stream",
     "text": [
      "n1 = 5, n2 = 10 \n",
      "\n",
      "45\n"
     ]
    }
   ],
   "source": [
    "# 출력\n",
    "print(f'n1 = {n1}, n2 = {n2}', '\\n')\n",
    "\n",
    "# if-else 구문으로 변수 n1과 n2 중에서 큰 수와 작은 수를 확인\n",
    "\n",
    "if n1 < n2:\n",
    "    max_, min_ = n2, n1\n",
    "else:\n",
    "    max_, min_ = n1, n2\n",
    "\n",
    "# sum함수로 변수 min_과 max_사이에 있는 자연수들의 합계를 구해 출력\n",
    "print(sum(range(min_, max_ + 1)))"
   ]
  },
  {
   "cell_type": "code",
   "execution_count": null,
   "id": "6c66ca0f",
   "metadata": {},
   "outputs": [
    {
     "name": "stdout",
     "output_type": "stream",
     "text": [
      "n1 = 5, n2 = 10 \n",
      "\n",
      "45\n"
     ]
    }
   ],
   "source": [
    "# 출력\n",
    "print(f'n1 = {n1}, n2 = {n2}', '\\n')\n",
    "\n",
    "# max 함수와 min 함수로 변수 n1과 n2 중에서 큰 수와 작은 수를 확인\n",
    "max_, min_ = max(n1, n2), min(n1, n2)\n",
    "\n",
    "# sum함수와 변수 min_과 max_사이에 있는 자연수들의 합계를 구해 출력\n",
    "print(sum(range(min_, max_ + 1)))"
   ]
  },
  {
   "cell_type": "code",
   "execution_count": 29,
   "id": "e0e0fce4",
   "metadata": {},
   "outputs": [
    {
     "name": "stdout",
     "output_type": "stream",
     "text": [
      "n1 = 5, n2 = 10 \n",
      "\n",
      "result = 45\n"
     ]
    }
   ],
   "source": [
    "# 출력\n",
    "print(f'n1 = {n1}, n2 = {n2}', '\\n')\n",
    "\n",
    "# sum 함수와 min 함수, max 함수로 변수 n1과 n2 사이에 있는 자연수들의 합계를 구해 출력\n",
    "print('result =', sum(range(min(n1, n2), max(n1, n2) + 1)))"
   ]
  },
  {
   "cell_type": "code",
   "execution_count": 33,
   "id": "2c409576",
   "metadata": {},
   "outputs": [
    {
     "name": "stdout",
     "output_type": "stream",
     "text": [
      "n1 = 5, n2 = 10 \n",
      "\n",
      "result = 45\n"
     ]
    }
   ],
   "source": [
    "# 출력\n",
    "print(f'n1 = {n1}, n2 = {n2}', '\\n')\n",
    "\n",
    "# range 함수의 세 번째 인자, 즉 증가폭을 지정할 변수\n",
    "step = 1\n",
    "\n",
    "# 변수 n1이 n2보다 크면, 변수 step은 -1이 되야한다.\n",
    "if n1 > n2:\n",
    "    step = -1\n",
    "\n",
    "# sum 함수와 range 함수로 변수 n1과 n2 사이에 있는 자연수들의 합계를 구해 출력\n",
    "print('result =', sum(range(n1, n2 + step, step)))"
   ]
  },
  {
   "cell_type": "code",
   "execution_count": null,
   "id": "05ed5883",
   "metadata": {},
   "outputs": [
    {
     "data": {
      "text/plain": [
       "'true'"
      ]
     },
     "execution_count": 34,
     "metadata": {},
     "output_type": "execute_result"
    }
   ],
   "source": [
    "# 조건부 표현식1\n",
    "'true' if True else 'false'"
   ]
  },
  {
   "cell_type": "code",
   "execution_count": null,
   "id": "2e497a89",
   "metadata": {},
   "outputs": [
    {
     "data": {
      "text/plain": [
       "'false'"
      ]
     },
     "execution_count": 35,
     "metadata": {},
     "output_type": "execute_result"
    }
   ],
   "source": [
    "# 조건부 표현식2\n",
    "'true' if False else 'false'"
   ]
  },
  {
   "cell_type": "code",
   "execution_count": 40,
   "id": "f6d850c1",
   "metadata": {},
   "outputs": [
    {
     "name": "stdout",
     "output_type": "stream",
     "text": [
      "n1 = 5, n2 = 10 \n",
      "\n",
      "result = 45\n"
     ]
    }
   ],
   "source": [
    "# 출력\n",
    "print(f'n1 = {n1}, n2 = {n2}', '\\n')\n",
    "\n",
    "# if-else 구문으로 변수 n1과 n2 중에 어떤 변수가 더 큰지에 따라 변수 step에 1또는 -1을 대입\n",
    "if n1 < n2:\n",
    "    step = 1\n",
    "else:\n",
    "    step = -1\n",
    "\n",
    "# 조건부 표현식으로 range 함수의 세 번째 인자, 증가폭을 설정\n",
    "step = 1 if n1 < n2 else -1\n",
    "\n",
    "# sum 함수와 range 함수로 변수 n1과 n2 사이에 있는 자연수들의 합계를 구해 출력\n",
    "print('result =', sum(range(n1, n2 + step, step)))"
   ]
  },
  {
   "cell_type": "code",
   "execution_count": 46,
   "id": "e108f51b",
   "metadata": {},
   "outputs": [
    {
     "name": "stdout",
     "output_type": "stream",
     "text": [
      "0\n"
     ]
    }
   ],
   "source": [
    "n1, n2 = map(int, input('Enter two positive integers: ').split())\n",
    "\n",
    "# 조건부 표현식의 중첩\n",
    "step = 1 if n1 < n2 else -1 if n1 > n2 else 0\n",
    "\n",
    "print(step)"
   ]
  },
  {
   "cell_type": "markdown",
   "id": "4586e146",
   "metadata": {},
   "source": [
    "# 2교시"
   ]
  },
  {
   "cell_type": "code",
   "execution_count": 49,
   "id": "b565a832",
   "metadata": {},
   "outputs": [
    {
     "name": "stdout",
     "output_type": "stream",
     "text": [
      "x = 1, y = 5\n",
      "x = 2, y = 5\n",
      "x = 3, y = 5\n",
      "x = 4, y = 5\n"
     ]
    }
   ],
   "source": [
    "# 반복문 while\n",
    "\n",
    "x, y = 1, 5\n",
    "\n",
    "while x < y:\n",
    "    print(f'x = {x}, y = {y}')\n",
    "    x += 1\n",
    "\n",
    "# 거짓이 될때까지 반복"
   ]
  },
  {
   "cell_type": "code",
   "execution_count": null,
   "id": "4ad987a9",
   "metadata": {},
   "outputs": [],
   "source": [
    "# 연습문제: 내가 답변\n",
    "\n",
    "q = int(input('Enter two positive integers: '))\n",
    "\n",
    "result = 0\n",
    "\n",
    "while q>66:\n",
    "    for i in range(1, 12):\n",
    "        result += i\n",
    "\n",
    "    print(result)\n",
    "\n"
   ]
  },
  {
   "cell_type": "code",
   "execution_count": null,
   "id": "dd071478",
   "metadata": {},
   "outputs": [
    {
     "name": "stdout",
     "output_type": "stream",
     "text": [
      "q= 65\n",
      "result = 66\n",
      "last adder integer = 11\n"
     ]
    }
   ],
   "source": [
    "# 연습문제 답\n",
    "\n",
    "# 사용자 입력\n",
    "\n",
    "q = int(input('Enter two positive integers: '))\n",
    "\n",
    "# 1부터 1씩 증가하는 자연수들의 합계를 저장할 변수\n",
    "result = 0\n",
    "\n",
    "# 1부터 1씩 증가하는 자연수를 표현하는 인덱스 변수\n",
    "i = 0\n",
    "\n",
    "# while 구문으로 변수 result가 변수 num보다 작은 동안 반복문을 수행\n",
    "while result <= q:\n",
    "    # 인덱스 변수 i를 증가\n",
    "    i += 1\n",
    "\n",
    "    # 1부터 1씩 증가하는 자연수들의 합계를 계산\n",
    "    result += i\n",
    "\n",
    "# 출력\n",
    "print('q=', q)\n",
    "print('result =', result)\n",
    "print('last adder integer =', i)"
   ]
  }
 ],
 "metadata": {
  "kernelspec": {
   "display_name": "Python 3",
   "language": "python",
   "name": "python3"
  },
  "language_info": {
   "codemirror_mode": {
    "name": "ipython",
    "version": 3
   },
   "file_extension": ".py",
   "mimetype": "text/x-python",
   "name": "python",
   "nbconvert_exporter": "python",
   "pygments_lexer": "ipython3",
   "version": "3.14.0"
  }
 },
 "nbformat": 4,
 "nbformat_minor": 5
}
