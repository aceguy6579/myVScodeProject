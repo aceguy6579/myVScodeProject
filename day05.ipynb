{
 "cells": [
  {
   "cell_type": "code",
   "execution_count": 25,
   "id": "ad535460",
   "metadata": {},
   "outputs": [
    {
     "name": "stdout",
     "output_type": "stream",
     "text": [
      "Dream comes true!\n"
     ]
    }
   ],
   "source": [
    "num = int(input('Enter an integer: '))\n",
    "\n",
    "if  num > 20 and num < 40:\n",
    "    print('Dream comes true!')"
   ]
  },
  {
   "cell_type": "code",
   "execution_count": 21,
   "id": "dd27f8e4",
   "metadata": {},
   "outputs": [
    {
     "name": "stdout",
     "output_type": "stream",
     "text": [
      "Do your berst!\n"
     ]
    }
   ],
   "source": [
    "num2 = int(input('Enter an integer: '))\n",
    "\n",
    "if 20 > num2 or 40 < num2:\n",
    "    print('Do your berst!')\n",
    "else:\n",
    "    print('x')"
   ]
  },
  {
   "cell_type": "code",
   "execution_count": null,
   "id": "0ac2517a",
   "metadata": {},
   "outputs": [
    {
     "name": "stdout",
     "output_type": "stream",
     "text": [
      "홀수\n"
     ]
    }
   ],
   "source": [
    "num = int(input('Enter a positive integer: '))\n",
    "\n",
    "if num % 2 == 0:\n",
    "    print('짝수')\n",
    "else:\n",
    "    print('홀수')"
   ]
  },
  {
   "cell_type": "code",
   "execution_count": 33,
   "id": "24b3665d",
   "metadata": {},
   "outputs": [
    {
     "name": "stdout",
     "output_type": "stream",
     "text": [
      "3\n"
     ]
    }
   ],
   "source": [
    "n1, n2 = map(int, input('Enter two integers: ').split())\n",
    "\n",
    "if n1 > n2:\n",
    "    print(n1 - n2)\n",
    "else:\n",
    "    print(n2 - n1)"
   ]
  },
  {
   "cell_type": "code",
   "execution_count": 48,
   "id": "cf5b911b",
   "metadata": {},
   "outputs": [
    {
     "name": "stdout",
     "output_type": "stream",
     "text": [
      "Today's won is 1100000.0 won\n"
     ]
    }
   ],
   "source": [
    "W = int(input('Enter hourly wage: '))\n",
    "H = int(input('Enter the hours worked: '))\n",
    "\n",
    "Wage = W * H\n",
    "\n",
    "#초과근무 급여 = 시급 * 8 + 시급의1.5 * 8시간 초과 근무한 시간\n",
    "WageX = Wage * 8 + Wage * 1.5 * (H-8)\n",
    "\n",
    "if H <= 8:\n",
    "    print(f\"Today's won is {Wage} won\")\n",
    "else:\n",
    "    print(f\"Today's won is {WageX} won\")"
   ]
  }
 ],
 "metadata": {
  "kernelspec": {
   "display_name": "Python 3",
   "language": "python",
   "name": "python3"
  },
  "language_info": {
   "codemirror_mode": {
    "name": "ipython",
    "version": 3
   },
   "file_extension": ".py",
   "mimetype": "text/x-python",
   "name": "python",
   "nbconvert_exporter": "python",
   "pygments_lexer": "ipython3",
   "version": "3.14.0"
  }
 },
 "nbformat": 4,
 "nbformat_minor": 5
}
