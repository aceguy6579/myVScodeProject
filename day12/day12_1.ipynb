{
 "cells": [
  {
   "cell_type": "markdown",
   "id": "b0b62918",
   "metadata": {},
   "source": [
    "# 숙제: 사용자에게 자연수 2개를 입력받아, n1과 n2의 최대 공약수를 구해 출력하라."
   ]
  },
  {
   "cell_type": "code",
   "execution_count": 6,
   "id": "a8bca9a2",
   "metadata": {},
   "outputs": [
    {
     "name": "stdout",
     "output_type": "stream",
     "text": [
      "n1 = 1746, n2 = 2358\n",
      "1746와 2358의 최대공약수는 18입니다.\n"
     ]
    }
   ],
   "source": [
    "import math\n",
    "\n",
    "n1, n2 = map(int, input('Enter two positive integers: ').split())\n",
    "\n",
    "print(f'n1 = {n1}, n2 = {n2}')\n",
    "\n",
    "result = math.gcd(n1, n2)\n",
    "print(f'{n1}와 {n2}의 최대공약수는 {result}입니다.')"
   ]
  },
  {
   "cell_type": "code",
   "execution_count": 7,
   "id": "6cccbec3",
   "metadata": {},
   "outputs": [
    {
     "name": "stdout",
     "output_type": "stream",
     "text": [
      "최대공약수는  18\n"
     ]
    }
   ],
   "source": [
    "while n2 !=0:\n",
    "    n1, n2 = n2, n1 % n2\n",
    "\n",
    "print(\"최대공약수는 \", n1)"
   ]
  }
 ],
 "metadata": {
  "kernelspec": {
   "display_name": "Python 3",
   "language": "python",
   "name": "python3"
  },
  "language_info": {
   "codemirror_mode": {
    "name": "ipython",
    "version": 3
   },
   "file_extension": ".py",
   "mimetype": "text/x-python",
   "name": "python",
   "nbconvert_exporter": "python",
   "pygments_lexer": "ipython3",
   "version": "3.14.0"
  }
 },
 "nbformat": 4,
 "nbformat_minor": 5
}
