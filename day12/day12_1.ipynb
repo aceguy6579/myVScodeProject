{
 "cells": [
  {
   "cell_type": "markdown",
   "id": "b0b62918",
   "metadata": {},
   "source": [
    "# 사용자에게 자연수 2개를 입력받아 n1과 n2의 최대 공약수를 구해 출력하라."
   ]
  },
  {
   "cell_type": "code",
   "execution_count": null,
   "id": "a8bca9a2",
   "metadata": {},
   "outputs": [],
   "source": []
  }
 ],
 "metadata": {
  "language_info": {
   "name": "python"
  }
 },
 "nbformat": 4,
 "nbformat_minor": 5
}
