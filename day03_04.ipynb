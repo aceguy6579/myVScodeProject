{
 "cells": [
  {
   "cell_type": "code",
   "execution_count": 20,
   "id": "cae900b5",
   "metadata": {},
   "outputs": [],
   "source": [
    "value = 10"
   ]
  },
  {
   "cell_type": "code",
   "execution_count": 21,
   "id": "6c7396fb",
   "metadata": {},
   "outputs": [
    {
     "name": "stdout",
     "output_type": "stream",
     "text": [
      "10\n"
     ]
    }
   ],
   "source": [
    "print(value)"
   ]
  },
  {
   "cell_type": "code",
   "execution_count": 22,
   "id": "1e6a2673",
   "metadata": {},
   "outputs": [
    {
     "data": {
      "text/plain": [
       "(314.1592, 62.83184)"
      ]
     },
     "execution_count": 22,
     "metadata": {},
     "output_type": "execute_result"
    }
   ],
   "source": [
    "r = 10\n",
    "pi = 3.141592\n",
    "area = pi * r ** 2\n",
    "cir = 2 * pi * r\n",
    "area, cir"
   ]
  },
  {
   "cell_type": "code",
   "execution_count": 23,
   "id": "b89127f2",
   "metadata": {},
   "outputs": [
    {
     "data": {
      "text/plain": [
       "'value = 10, pi = 3.141592'"
      ]
     },
     "execution_count": 23,
     "metadata": {},
     "output_type": "execute_result"
    }
   ],
   "source": [
    "# 서식 지정자\n",
    "\n",
    "'value = {}, pi = {}'.format(value, pi)"
   ]
  },
  {
   "cell_type": "code",
   "execution_count": 24,
   "id": "2b0913ff",
   "metadata": {},
   "outputs": [
    {
     "data": {
      "text/plain": [
       "'value = 3.141592, pi = 10'"
      ]
     },
     "execution_count": 24,
     "metadata": {},
     "output_type": "execute_result"
    }
   ],
   "source": [
    "'value = {1}, pi = {0}'.format(value, pi)"
   ]
  },
  {
   "cell_type": "code",
   "execution_count": 25,
   "id": "99ef5f65",
   "metadata": {},
   "outputs": [
    {
     "data": {
      "text/plain": [
       "'value = 10, pi = 3.141592'"
      ]
     },
     "execution_count": 25,
     "metadata": {},
     "output_type": "execute_result"
    }
   ],
   "source": [
    "'value = {:d}, pi = {:f}'.format(value, pi)"
   ]
  },
  {
   "cell_type": "code",
   "execution_count": 26,
   "id": "4e15a786",
   "metadata": {},
   "outputs": [
    {
     "data": {
      "text/plain": [
       "'value = 10, pi = 3.141592'"
      ]
     },
     "execution_count": 26,
     "metadata": {},
     "output_type": "execute_result"
    }
   ],
   "source": [
    "'value = {0:d}, pi = {1:f}'.format(value, pi)"
   ]
  },
  {
   "cell_type": "code",
   "execution_count": 27,
   "id": "85f61cd1",
   "metadata": {},
   "outputs": [
    {
     "data": {
      "text/plain": [
       "'value = 10, pi = 3.142'"
      ]
     },
     "execution_count": 27,
     "metadata": {},
     "output_type": "execute_result"
    }
   ],
   "source": [
    "'value = {}, pi = {:.3f}'.format(value, pi)"
   ]
  },
  {
   "cell_type": "code",
   "execution_count": 28,
   "id": "aa3c2f50",
   "metadata": {},
   "outputs": [
    {
     "data": {
      "text/plain": [
       "'        10'"
      ]
     },
     "execution_count": 28,
     "metadata": {},
     "output_type": "execute_result"
    }
   ],
   "source": [
    "# 너비를 지정하면, 숫자는 오른쪽으로 정렬\n",
    "\n",
    "'{:10d}'.format(value)"
   ]
  },
  {
   "cell_type": "code",
   "execution_count": 29,
   "id": "49704da1",
   "metadata": {},
   "outputs": [
    {
     "data": {
      "text/plain": [
       "'10        '"
      ]
     },
     "execution_count": 29,
     "metadata": {},
     "output_type": "execute_result"
    }
   ],
   "source": [
    "# 너비를 지정하고 왼쪽으로 정렬\n",
    "\n",
    "'{:<10}'.format(value)"
   ]
  },
  {
   "cell_type": "code",
   "execution_count": 30,
   "id": "0bc2b58a",
   "metadata": {},
   "outputs": [
    {
     "data": {
      "text/plain": [
       "'    10    '"
      ]
     },
     "execution_count": 30,
     "metadata": {},
     "output_type": "execute_result"
    }
   ],
   "source": [
    "# 너비를 지정하고 가운데로 정렬\n",
    "\n",
    "'{:^10}'.format(value)"
   ]
  },
  {
   "cell_type": "code",
   "execution_count": 31,
   "id": "f777ede0",
   "metadata": {},
   "outputs": [
    {
     "data": {
      "text/plain": [
       "'0000000010'"
      ]
     },
     "execution_count": 31,
     "metadata": {},
     "output_type": "execute_result"
    }
   ],
   "source": [
    "# 공백을 0으로 채움\n",
    "\n",
    "'{:010}'.format(value)"
   ]
  },
  {
   "cell_type": "code",
   "execution_count": 32,
   "id": "9f77da6b",
   "metadata": {},
   "outputs": [
    {
     "data": {
      "text/plain": [
       "'____10____'"
      ]
     },
     "execution_count": 32,
     "metadata": {},
     "output_type": "execute_result"
    }
   ],
   "source": [
    "# 공백을 밑줄 문자로 채우고 가운데 정렬\n",
    "\n",
    "'{:_^10}'.format(value)"
   ]
  },
  {
   "cell_type": "code",
   "execution_count": 33,
   "id": "0104bbd6",
   "metadata": {},
   "outputs": [
    {
     "data": {
      "text/plain": [
       "'214,743,864'"
      ]
     },
     "execution_count": 33,
     "metadata": {},
     "output_type": "execute_result"
    }
   ],
   "source": [
    "# 숫자에 천 단위마다 쉼표 넣기\n",
    "\n",
    "'{:,}'.format(214743864)"
   ]
  },
  {
   "cell_type": "code",
   "execution_count": 34,
   "id": "75bec9c0",
   "metadata": {},
   "outputs": [
    {
     "data": {
      "text/plain": [
       "'value = 10, pi = 3.142'"
      ]
     },
     "execution_count": 34,
     "metadata": {},
     "output_type": "execute_result"
    }
   ],
   "source": [
    "value = 10\n",
    "pi = 3.141592\n",
    "f'value = {value}, pi = {pi:.3f}'"
   ]
  },
  {
   "cell_type": "code",
   "execution_count": 35,
   "id": "92b56825",
   "metadata": {},
   "outputs": [
    {
     "data": {
      "text/plain": [
       "'value = 10, pi = 3.14'"
      ]
     },
     "execution_count": 35,
     "metadata": {},
     "output_type": "execute_result"
    }
   ],
   "source": [
    "f'value = {value}, pi = {pi:.3}'"
   ]
  },
  {
   "cell_type": "code",
   "execution_count": 36,
   "id": "c90c1f9a",
   "metadata": {},
   "outputs": [
    {
     "data": {
      "text/plain": [
       "10"
      ]
     },
     "execution_count": 36,
     "metadata": {},
     "output_type": "execute_result"
    }
   ],
   "source": [
    "x = 10\n",
    "x"
   ]
  },
  {
   "cell_type": "code",
   "execution_count": null,
   "id": "7d8e3e11",
   "metadata": {},
   "outputs": [],
   "source": [
    "value = int(input('Enter an integer: '))\n",
    "print('value + 10 =', value + 10)"
   ]
  },
  {
   "cell_type": "code",
   "execution_count": null,
   "id": "13b4de3f",
   "metadata": {},
   "outputs": [
    {
     "name": "stdout",
     "output_type": "stream",
     "text": [
      "value = '10'\n"
     ]
    }
   ],
   "source": [
    "value = input('Enter two integer: ')\n",
    "print(f\"value = '{value}'\")"
   ]
  },
  {
   "cell_type": "code",
   "execution_count": null,
   "id": "a11a7fef",
   "metadata": {},
   "outputs": [
    {
     "name": "stdout",
     "output_type": "stream",
     "text": [
      "n1 = 10, n2 = 20\n"
     ]
    }
   ],
   "source": [
    "n1, n2 = 10, 20\n",
    "print(f'n1 = {n1}, n2 = {n2}')"
   ]
  },
  {
   "cell_type": "code",
   "execution_count": null,
   "id": "8850670c",
   "metadata": {},
   "outputs": [
    {
     "name": "stdout",
     "output_type": "stream",
     "text": [
      "value = '10 20'\n"
     ]
    },
    {
     "data": {
      "text/plain": [
       "['10', '20']"
      ]
     },
     "execution_count": 8,
     "metadata": {},
     "output_type": "execute_result"
    }
   ],
   "source": [
    "value = '10 20'\n",
    "print(f\"value = '{value}'\")\n",
    "value.split()"
   ]
  },
  {
   "cell_type": "code",
   "execution_count": null,
   "id": "a9518657",
   "metadata": {},
   "outputs": [
    {
     "data": {
      "text/plain": [
       "[10, 20]"
      ]
     },
     "execution_count": 9,
     "metadata": {},
     "output_type": "execute_result"
    }
   ],
   "source": [
    "value = map(int, ['10', '20'])\n",
    "list(value)"
   ]
  },
  {
   "cell_type": "code",
   "execution_count": null,
   "id": "c7994e9d",
   "metadata": {},
   "outputs": [
    {
     "name": "stdout",
     "output_type": "stream",
     "text": [
      "10 20 30\n"
     ]
    }
   ],
   "source": [
    "n1, n2, n3 = map(int, input('Enter : ').split())\n",
    "print(n1, n2, n3)"
   ]
  },
  {
   "cell_type": "code",
   "execution_count": null,
   "id": "3a99944a",
   "metadata": {},
   "outputs": [
    {
     "name": "stdout",
     "output_type": "stream",
     "text": [
      "r =  3\n",
      "pi =  3.141592\n",
      "area = 28.274\n",
      "cir = 18.850\n"
     ]
    }
   ],
   "source": [
    "r = int(input('Enter a radius of the circle: '))\n",
    "pi = 3.141592\n",
    "\n",
    "area = pi * r **2\n",
    "cir = 2 * pi * r\n",
    "\n",
    "print('r = ', r)\n",
    "print('pi = ', pi)\n",
    "print('area = {:.3f}'.format(area))\n",
    "print(f'cir = {cir:.3f}')\n"
   ]
  },
  {
   "cell_type": "code",
   "execution_count": 1,
   "id": "14b8b589",
   "metadata": {},
   "outputs": [
    {
     "name": "stdout",
     "output_type": "stream",
     "text": [
      "Quotient =  3 \tRemainder =  1\n"
     ]
    }
   ],
   "source": [
    "n1, n2 = map(int, input('Enter two integers: ').split())\n",
    "\n",
    "x = n1 // n2\n",
    "y = n1 % n2\n",
    "print('Quotient = ', x, '\\tRemainder = ', y)"
   ]
  },
  {
   "cell_type": "code",
   "execution_count": 2,
   "id": "4a6e70fb",
   "metadata": {},
   "outputs": [
    {
     "name": "stdout",
     "output_type": "stream",
     "text": [
      "1\t2\t3\n"
     ]
    }
   ],
   "source": [
    "print('1\\t2\\t3')"
   ]
  },
  {
   "cell_type": "code",
   "execution_count": 5,
   "id": "32eb76db",
   "metadata": {},
   "outputs": [
    {
     "name": "stdout",
     "output_type": "stream",
     "text": [
      "hi\n"
     ]
    }
   ],
   "source": [
    "x = int(input('Enter an integer: '))\n",
    "\n",
    "if x > 40:\n",
    "    print(\"hello world!\")\n",
    "else:\n",
    "    print(\"hi\")"
   ]
  }
 ],
 "metadata": {
  "kernelspec": {
   "display_name": "Python 3",
   "language": "python",
   "name": "python3"
  },
  "language_info": {
   "codemirror_mode": {
    "name": "ipython",
    "version": 3
   },
   "file_extension": ".py",
   "mimetype": "text/x-python",
   "name": "python",
   "nbconvert_exporter": "python",
   "pygments_lexer": "ipython3",
   "version": "3.14.0"
  }
 },
 "nbformat": 4,
 "nbformat_minor": 5
}
