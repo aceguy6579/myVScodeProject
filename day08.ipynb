{
 "cells": [
  {
   "cell_type": "code",
   "execution_count": 1,
   "id": "9cd5ccd6",
   "metadata": {},
   "outputs": [
    {
     "name": "stdout",
     "output_type": "stream",
     "text": [
      "hi\n"
     ]
    }
   ],
   "source": [
    "print('hi')"
   ]
  },
  {
   "cell_type": "code",
   "execution_count": null,
   "id": "a445e077",
   "metadata": {},
   "outputs": [
    {
     "data": {
      "text/plain": [
       "'*****'"
      ]
     },
     "execution_count": 2,
     "metadata": {},
     "output_type": "execute_result"
    }
   ],
   "source": [
    "#시퀀스 연산\n",
    "'*' * 5"
   ]
  },
  {
   "cell_type": "code",
   "execution_count": null,
   "id": "4a4b6828",
   "metadata": {},
   "outputs": [
    {
     "name": "stdout",
     "output_type": "stream",
     "text": [
      "[1, 2, 3, 4, 5, 6, 7, 8, 9, 10]\n",
      "10\n",
      "numbers[9] = 10\n"
     ]
    }
   ],
   "source": [
    "numbers = list(range(1, 11))\n",
    "print(numbers)\n",
    "print(len(numbers))\n",
    "print('numbers[9] =', numbers[len(numbers) -1])"
   ]
  },
  {
   "cell_type": "code",
   "execution_count": 9,
   "id": "acd3be01",
   "metadata": {},
   "outputs": [
    {
     "data": {
      "text/plain": [
       "[3, 4, 5, 6]"
      ]
     },
     "execution_count": 9,
     "metadata": {},
     "output_type": "execute_result"
    }
   ],
   "source": [
    "numbers[2:6]"
   ]
  },
  {
   "cell_type": "code",
   "execution_count": 10,
   "id": "320edd6d",
   "metadata": {},
   "outputs": [
    {
     "data": {
      "text/plain": [
       "[1, 2, 3, 4, 5, 6]"
      ]
     },
     "execution_count": 10,
     "metadata": {},
     "output_type": "execute_result"
    }
   ],
   "source": [
    "numbers[:6]"
   ]
  },
  {
   "cell_type": "code",
   "execution_count": 13,
   "id": "d800729f",
   "metadata": {},
   "outputs": [
    {
     "data": {
      "text/plain": [
       "[7, 8, 9, 10]"
      ]
     },
     "execution_count": 13,
     "metadata": {},
     "output_type": "execute_result"
    }
   ],
   "source": [
    "numbers[6:]"
   ]
  },
  {
   "cell_type": "code",
   "execution_count": 50,
   "id": "a564ac55",
   "metadata": {},
   "outputs": [
    {
     "name": "stdout",
     "output_type": "stream",
     "text": [
      "(0, 2, 4, 6, 8) (1, 4, 7, 10)\n"
     ]
    }
   ],
   "source": [
    "x =tuple(range(0, 10, 2))\n",
    "y = numbers[0:10:3]\n",
    "\n",
    "print(x, y)"
   ]
  },
  {
   "cell_type": "code",
   "execution_count": 24,
   "id": "8bc8e4b9",
   "metadata": {},
   "outputs": [
    {
     "data": {
      "text/plain": [
       "[1, 4, 7, 10]"
      ]
     },
     "execution_count": 24,
     "metadata": {},
     "output_type": "execute_result"
    }
   ],
   "source": [
    "numbers[::3]"
   ]
  },
  {
   "cell_type": "code",
   "execution_count": 30,
   "id": "77a78bbb",
   "metadata": {},
   "outputs": [
    {
     "name": "stdout",
     "output_type": "stream",
     "text": [
      "Hello W\n",
      "Hlo\n",
      "Hello World\n",
      "HlWl\n"
     ]
    }
   ],
   "source": [
    "hello = 'Hello World!'\n",
    "print(hello[:7])\n",
    "print(hello[:5:2])\n",
    "print(hello[:-1])\n",
    "print(hello[::3])"
   ]
  },
  {
   "cell_type": "code",
   "execution_count": null,
   "id": "f99fcef6",
   "metadata": {},
   "outputs": [
    {
     "name": "stdout",
     "output_type": "stream",
     "text": [
      "[1, 2, 3, 4, 5, 6, 7, 8, 9, 10, 11, 12]\n",
      "[1, 2, 3, 4, 5]\n",
      "[1, 2, 3, 4, 5]\n",
      "[2, 4, 6, 8, 10, 12]\n"
     ]
    }
   ],
   "source": [
    "# 연습문제1, 2(1~5, 2~12(2) 생성)\n",
    "\n",
    "numbers = list(range(1, 13))\n",
    "print(numbers)\n",
    "print(numbers[0:5])\n",
    "print(numbers[:5])\n",
    "print(numbers[1:12:2])"
   ]
  },
  {
   "cell_type": "code",
   "execution_count": null,
   "id": "71c8ce23",
   "metadata": {},
   "outputs": [
    {
     "name": "stdout",
     "output_type": "stream",
     "text": [
      "(2, 4, 6, 8, 10, 12)\n",
      "(2, 4, 6, 8, 10, 12)\n",
      "(12, 10, 8, 6, 4, 2)\n",
      "(12, 10, 8, 6, 4, 2)\n",
      "(12, 10, 8, 6, 4, 2)\n"
     ]
    }
   ],
   "source": [
    "#연습문제3(튜플생성)\n",
    "\n",
    "numbers = tuple(range(1, 13))\n",
    "print(numbers[1:12:2])\n",
    "print(numbers[1::2])\n",
    "\n",
    "# 슬라이스 연산에서 증가폭이 음수면\n",
    "# 1. 첫 번째 인덱스를 생략하면 마지막 요소의 인덱스가 되고\n",
    "# 2. 두번째 인덱스를 생략하면 첫 번째 요소의 인덱스가 된다.\n",
    "\n",
    "print(numbers[::-2])\n",
    "print(numbers[11:0:-2])\n",
    "print(numbers[len(numbers) - 1:0:-2])"
   ]
  },
  {
   "cell_type": "code",
   "execution_count": null,
   "id": "4527a162",
   "metadata": {},
   "outputs": [
    {
     "name": "stdout",
     "output_type": "stream",
     "text": [
      "(3, 6, 9)\n"
     ]
    }
   ],
   "source": [
    "# 튜플 numbers에서 3,6,9 튜플 생성\n",
    "\n",
    "numbers = tuple(range(1, 13))\n",
    "print(numbers[2:11:3])"
   ]
  },
  {
   "cell_type": "code",
   "execution_count": 46,
   "id": "9b98bacf",
   "metadata": {},
   "outputs": [
    {
     "name": "stdout",
     "output_type": "stream",
     "text": [
      "(3, 6, 9)\n"
     ]
    }
   ],
   "source": [
    "# range함수로 3,6,9 튜플생성\n",
    "print(tuple(range(3,10,3)))"
   ]
  },
  {
   "cell_type": "code",
   "execution_count": null,
   "id": "4af41a69",
   "metadata": {},
   "outputs": [
    {
     "name": "stdout",
     "output_type": "stream",
     "text": [
      "[2022, 2023, 2024]\n",
      "[9857426, 9838892, 9783129]\n"
     ]
    }
   ],
   "source": [
    "# 연도와 인구수의 리스트\n",
    "\n",
    "year = [2016, 2017, 2018, 2019, 2020, 2021, 2022, 2023, 2024]\n",
    "population = [10249679, 10195318, 10143645, 10103233, 10022181, 9930616, \n",
    "              9857426, 9838892, 9783129]\n",
    "\n",
    "#리스트 year와 pop에서 인덱스가 6,7,8인 요소 추출\n",
    "\n",
    "print(year[6:9:1])\n",
    "print(population[6:])"
   ]
  },
  {
   "cell_type": "code",
   "execution_count": null,
   "id": "16bd3d2c",
   "metadata": {},
   "outputs": [
    {
     "name": "stdout",
     "output_type": "stream",
     "text": [
      "[2022, 2023, 2024]\n",
      "[9857426, 9838892, 9783129]\n"
     ]
    }
   ],
   "source": [
    "#리스트 year와 population에서 마지막 요소 3개 추출\n",
    "\n",
    "print(year[-3:])\n",
    "print(population[-3:])"
   ]
  }
 ],
 "metadata": {
  "kernelspec": {
   "display_name": "Python 3",
   "language": "python",
   "name": "python3"
  },
  "language_info": {
   "codemirror_mode": {
    "name": "ipython",
    "version": 3
   },
   "file_extension": ".py",
   "mimetype": "text/x-python",
   "name": "python",
   "nbconvert_exporter": "python",
   "pygments_lexer": "ipython3",
   "version": "3.14.0"
  }
 },
 "nbformat": 4,
 "nbformat_minor": 5
}
