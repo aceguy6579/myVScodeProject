{
 "cells": [
  {
   "cell_type": "code",
   "execution_count": 7,
   "id": "1fd778ce",
   "metadata": {},
   "outputs": [
    {
     "name": "stdout",
     "output_type": "stream",
     "text": [
      "['Kim', 'Park', 'Cho']\n",
      "Kim\n"
     ]
    }
   ],
   "source": [
    "names = ['Kim', 'Park', 'Cho']\n",
    "print(names)\n",
    "print(names[0])"
   ]
  },
  {
   "cell_type": "code",
   "execution_count": 8,
   "id": "e676e3da",
   "metadata": {},
   "outputs": [
    {
     "data": {
      "text/plain": [
       "['Kim', 'Lee', 'Cho']"
      ]
     },
     "execution_count": 8,
     "metadata": {},
     "output_type": "execute_result"
    }
   ],
   "source": [
    "names[1] = 'Lee'\n",
    "names"
   ]
  },
  {
   "cell_type": "code",
   "execution_count": 9,
   "id": "16ead674",
   "metadata": {},
   "outputs": [
    {
     "data": {
      "text/plain": [
       "['Kim', 'Lee', 'Cho', 'Gwang']"
      ]
     },
     "execution_count": 9,
     "metadata": {},
     "output_type": "execute_result"
    }
   ],
   "source": [
    "names.append('Gwang')\n",
    "names"
   ]
  },
  {
   "cell_type": "code",
   "execution_count": 10,
   "id": "07ed691f",
   "metadata": {},
   "outputs": [
    {
     "data": {
      "text/plain": [
       "['Kim', 'Cho', 'Gwang']"
      ]
     },
     "execution_count": 10,
     "metadata": {},
     "output_type": "execute_result"
    }
   ],
   "source": [
    "names.remove('Lee')\n",
    "names"
   ]
  },
  {
   "cell_type": "code",
   "execution_count": 11,
   "id": "ba733df7",
   "metadata": {},
   "outputs": [
    {
     "data": {
      "text/plain": [
       "[]"
      ]
     },
     "execution_count": 11,
     "metadata": {},
     "output_type": "execute_result"
    }
   ],
   "source": [
    "values = list()\n",
    "values"
   ]
  },
  {
   "cell_type": "code",
   "execution_count": 12,
   "id": "72c7acc2",
   "metadata": {},
   "outputs": [
    {
     "data": {
      "text/plain": [
       "[3, 7]"
      ]
     },
     "execution_count": 12,
     "metadata": {},
     "output_type": "execute_result"
    }
   ],
   "source": [
    "values.append(3)\n",
    "values.append(7)\n",
    "values"
   ]
  },
  {
   "cell_type": "code",
   "execution_count": null,
   "id": "2d280a37",
   "metadata": {},
   "outputs": [
    {
     "name": "stdout",
     "output_type": "stream",
     "text": [
      "[3, 17, 21, 23, 42]\n",
      "['Cho', 'Gwang', 'Kim']\n"
     ]
    }
   ],
   "source": [
    "# sort메소드 : 오름차순 정렬\n",
    "\n",
    "values2 = [23, 17, 42, 3, 21]\n",
    "values2.sort()\n",
    "names.sort()\n",
    "print(values2)\n",
    "print(names)"
   ]
  },
  {
   "cell_type": "code",
   "execution_count": 26,
   "id": "2027e79d",
   "metadata": {},
   "outputs": [
    {
     "name": "stdout",
     "output_type": "stream",
     "text": [
      "[42, 23, 21, 17, 3]\n"
     ]
    }
   ],
   "source": [
    "# reverse메소드 : 내림차순 정렬\n",
    "\n",
    "values2.sort(reverse=True)\n",
    "print(values2)"
   ]
  },
  {
   "cell_type": "code",
   "execution_count": null,
   "id": "5b0a3b08",
   "metadata": {},
   "outputs": [
    {
     "name": "stdout",
     "output_type": "stream",
     "text": [
      "True\n",
      "True\n"
     ]
    }
   ],
   "source": [
    "# 아스키 코드 숫자크기 비교\n",
    "\n",
    "print('Hello' < 'Hi')\n",
    "print('Dream comes true!' > 'Do your best!')"
   ]
  },
  {
   "cell_type": "code",
   "execution_count": null,
   "id": "58e16ef4",
   "metadata": {},
   "outputs": [
    {
     "name": "stdout",
     "output_type": "stream",
     "text": [
      "[1, 2, 3], [4, 5, 6]\n",
      "([1, 2, 3], [4, 5, 6])\n"
     ]
    }
   ],
   "source": [
    "# 리스트는 또 변수를 이렇게 지정이 가능하다.\n",
    "\n",
    "n1, n2 = [1, 2, 3], [4, 5, 6]\n",
    "print(f'{n1}, {n2}')\n",
    "print(f'{n1, n2}')"
   ]
  },
  {
   "cell_type": "code",
   "execution_count": null,
   "id": "aa355992",
   "metadata": {},
   "outputs": [
    {
     "name": "stdout",
     "output_type": "stream",
     "text": [
      "1\t2\t3\t4\t5\t6\t7\t8\t9\t10\t\n"
     ]
    }
   ],
   "source": [
    "# range 함수 : 지정한 범위에 포함된 연속된 정수들의 묶음을 생성, range와 list는 변환함수이다.\n",
    "\n",
    "for i in range(1, 11): # 1부터 10까지의 정수 생성하기\n",
    "    print(i, end='\\t')\n",
    "print()"
   ]
  },
  {
   "cell_type": "code",
   "execution_count": 37,
   "id": "b57fea33",
   "metadata": {},
   "outputs": [
    {
     "name": "stdout",
     "output_type": "stream",
     "text": [
      "[1, 2, 3, 4, 5, 6, 7, 8, 9, 10]\n"
     ]
    }
   ],
   "source": [
    "numbers = list(range(1, 11))\n",
    "print(numbers)"
   ]
  },
  {
   "cell_type": "code",
   "execution_count": null,
   "id": "b768f5ff",
   "metadata": {},
   "outputs": [],
   "source": [
    "# [1, 2, 3, 4, 5, 6, 7, 8, 9, 10]과 range(1, 11)차이는 무엇인가\n",
    "\n",
    "# [1]은 요소 하나, range(1)은 다르다. 즉, 저장공간으로치면 요소는 40을 썼다면 range는 4밖에 안쓰는 것이다. 즉, range를 쓰면 저장공간을 아낄 수 있다."
   ]
  },
  {
   "cell_type": "code",
   "execution_count": null,
   "id": "8b9470a2",
   "metadata": {},
   "outputs": [
    {
     "name": "stdout",
     "output_type": "stream",
     "text": [
      "[1, 3, 5, 7, 9], [10, 9, 8, 7, 6, 5, 4, 3, 2, 1]\n"
     ]
    }
   ],
   "source": [
    "# range함수에서 1부터 2씩 증가하는 정수들의 묶음을 생성하기\n",
    "numbers = list(range(1, 11, 2))\n",
    "\n",
    "# 10에서부터 1까지 감소하는 정수들의 묶음을 생성\n",
    "minus = list(range(10, 0, -1))\n",
    "print(f'{numbers}, {minus}')"
   ]
  },
  {
   "cell_type": "markdown",
   "id": "3e6e291a",
   "metadata": {},
   "source": [
    "리스트와 튜플의 차이 : 변경 가능 여부\n",
    "\n",
    "리스트 : 가변(mutable)으로, 요소를 추가, 수정, 삭제할 수 있다.\n",
    "튜플 : 불변(immutable)으로, 한 번 생성하면 요소를 변경할 수 없습니다."
   ]
  },
  {
   "cell_type": "code",
   "execution_count": null,
   "id": "eb7b0f27",
   "metadata": {},
   "outputs": [
    {
     "data": {
      "text/plain": [
       "{'Kim': 92, 'Park': 78, 'Cho': 86}"
      ]
     },
     "execution_count": 46,
     "metadata": {},
     "output_type": "execute_result"
    }
   ],
   "source": [
    "# 사전형\n",
    "\n",
    "scores = {'Kim': 92, 'Park' : 78, 'Cho' : 86} # cho = 키(key), 86 = 요소(element)\n",
    "scores"
   ]
  },
  {
   "cell_type": "markdown",
   "id": "686dc085",
   "metadata": {},
   "source": [
    "사전형과 집합의 차이 : 사전형은 키와 요소 전부다있고 집합은 요소만 있다."
   ]
  },
  {
   "cell_type": "code",
   "execution_count": 47,
   "id": "388bf860",
   "metadata": {},
   "outputs": [
    {
     "data": {
      "text/plain": [
       "{'Cho', 'Kim', 'Park'}"
      ]
     },
     "execution_count": 47,
     "metadata": {},
     "output_type": "execute_result"
    }
   ],
   "source": [
    "names = {'Kim', 'Park', 'Cho'}\n",
    "names"
   ]
  },
  {
   "cell_type": "code",
   "execution_count": null,
   "id": "af8a8dce",
   "metadata": {},
   "outputs": [
    {
     "name": "stdout",
     "output_type": "stream",
     "text": [
      "{'Kim', 'Hong'}\n",
      "{'Park'}\n",
      "{'Jang', 'Kim', 'Hong', 'Kang', 'Park'}\n",
      "{'Jang', 'Kim', 'Hong', 'Kang'}\n"
     ]
    }
   ],
   "source": [
    "names_A = {'Kim', 'Park', 'Hong'}\n",
    "names_B = {'Kang', 'Park', 'Jang'}\n",
    "\n",
    "print(names_A - names_B)\n",
    "print(names_A & names_B)\n",
    "print(names_A | names_B)\n",
    "print(names_A ^ names_B)"
   ]
  },
  {
   "cell_type": "code",
   "execution_count": null,
   "id": "46afe45f",
   "metadata": {},
   "outputs": [
    {
     "name": "stdout",
     "output_type": "stream",
     "text": [
      "values = [2, 1, 2, 5, 3, 6, 3, 5, 4, 1, 7, 1]\n",
      "values_set =  {1, 2, 3, 4, 5, 6, 7}\n"
     ]
    }
   ],
   "source": [
    "# 연습문제 : 리스트 'values'에서 중복된 요소들을 제거 \n",
    "\n",
    "values = [2, 1, 2, 5, 3, 6, 3, 5, 4, 1, 7, 1]\n",
    "\n",
    "# list(set(values)) #chatGPT답\n",
    "\n",
    "print('values =', values)\n",
    "\n",
    "values_set = set(values)\n",
    "\n",
    "print('values_set = ',values_set)"
   ]
  },
  {
   "cell_type": "code",
   "execution_count": 53,
   "id": "c5d751b0",
   "metadata": {},
   "outputs": [
    {
     "name": "stdout",
     "output_type": "stream",
     "text": [
      "values =  {1, 2, 3, 4, 5, 6, 7}\n"
     ]
    }
   ],
   "source": [
    "values = list(values_set)\n",
    "print('values = ', values_set)"
   ]
  },
  {
   "cell_type": "code",
   "execution_count": 56,
   "id": "26046de5",
   "metadata": {},
   "outputs": [
    {
     "name": "stdout",
     "output_type": "stream",
     "text": [
      "values = [1, 2, 3, 4, 5, 6, 7]\n"
     ]
    }
   ],
   "source": [
    "values = [2, 1, 2, 5, 3, 6, 3, 5, 4, 1, 7, 1]\n",
    "\n",
    "values = list(set(values))\n",
    "\n",
    "print('values =', values)"
   ]
  },
  {
   "cell_type": "code",
   "execution_count": null,
   "id": "531c92f8",
   "metadata": {},
   "outputs": [],
   "source": [
    "# 딕셔너리 함수도 고려해보기 : dict()"
   ]
  }
 ],
 "metadata": {
  "kernelspec": {
   "display_name": "Python 3",
   "language": "python",
   "name": "python3"
  },
  "language_info": {
   "codemirror_mode": {
    "name": "ipython",
    "version": 3
   },
   "file_extension": ".py",
   "mimetype": "text/x-python",
   "name": "python",
   "nbconvert_exporter": "python",
   "pygments_lexer": "ipython3",
   "version": "3.14.0"
  }
 },
 "nbformat": 4,
 "nbformat_minor": 5
}
