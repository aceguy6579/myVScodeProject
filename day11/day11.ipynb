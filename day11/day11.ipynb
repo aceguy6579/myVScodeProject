{
 "cells": [
  {
   "cell_type": "markdown",
   "id": "c149d984",
   "metadata": {},
   "source": [
    "# 2교시 연습문제\n",
    "\n",
    "# 사용자에게 자연수 2개를 입력받고, 1에서부터 n1까지의 자연수들 중 n2의 배수들을 출력하고, 그 배수들의 개수를 구해 출력"
   ]
  },
  {
   "cell_type": "code",
   "execution_count": 2,
   "id": "eac2fdae",
   "metadata": {},
   "outputs": [
    {
     "name": "stdout",
     "output_type": "stream",
     "text": [
      "n1 = 14, n2 = 3\n",
      "3\t6\t9\t12\t"
     ]
    }
   ],
   "source": [
    "# 내 답안\n",
    "\n",
    "n1, n2 = map(int, input('Enter two positive integers: ').split())\n",
    "\n",
    "print(f'n1 = {n1}, n2 = {n2}')\n",
    "\n",
    "for i in range(1, n1+1):\n",
    "    if i % n2 == 0:\n",
    "        print(i, end='\\t')\n",
    "        "
   ]
  },
  {
   "cell_type": "code",
   "execution_count": null,
   "id": "5ec141f2",
   "metadata": {},
   "outputs": [
    {
     "name": "stdout",
     "output_type": "stream",
     "text": [
      "Multiples of 3 between 1 and 14 = 3 6 9 12 \n",
      "Number of multiples = 4\n"
     ]
    }
   ],
   "source": [
    "# 선생님 풀이1\n",
    "\n",
    "# 1부터 n1까지의 자연수들 중 n2의 배수들의 갯수\n",
    "count = 0\n",
    "\n",
    "# 1부터 n1까지의 자연수들 중 n2의 배수를 출력\n",
    "print(f'Multiples of {n2} between 1 and {n1} = ', end='')\n",
    "\n",
    "# for 구문과 range 함수로 1부터 n1까지의 자연수들을 차례대로 확인\n",
    "for i in range(1, n1 + 1):\n",
    "    # 변수 i가 n2의 배수이면 출력하고 갯수를 증가\n",
    "    if i % n2 == 0:\n",
    "        print(i, end = ' ')\n",
    "        count += 1\n",
    "\n",
    "# n2의 배수들을 모두 출력하고 줄 바꿈\n",
    "print()\n",
    "\n",
    "# 배수의 개수 출력\n",
    "print('Number of multiples =', count)\n"
   ]
  },
  {
   "cell_type": "code",
   "execution_count": 5,
   "id": "fbbc422e",
   "metadata": {},
   "outputs": [
    {
     "name": "stdout",
     "output_type": "stream",
     "text": [
      "Multiples of 3 between 1 and 14 = [3, 6, 9, 12]\n",
      "Number of multiples = 4\n"
     ]
    }
   ],
   "source": [
    "# 선생님 풀이2\n",
    "\n",
    "# 1부터 n1까지의 자연수들 중에서 n2의 배수들을 저장할 리스트\n",
    "# multiples = []\n",
    "multiples = list()\n",
    "\n",
    "# for 구문과 range 함수로 1부터 n1까지의 자연수들을 차례대로 확인\n",
    "for i in range(1, n1 + 1):\n",
    "    # 변수 i가 n2의 배수이면 리스트 multiples에 추가\n",
    "    if i % n2 == 0:\n",
    "        multiples.append(i)\n",
    "\n",
    "# 출력\n",
    "print(f'Multiples of {n2} between 1 and {n1} =', multiples)\n",
    "print('Number of multiples =', len(multiples))"
   ]
  },
  {
   "cell_type": "code",
   "execution_count": 6,
   "id": "21ccdd2f",
   "metadata": {},
   "outputs": [
    {
     "name": "stdout",
     "output_type": "stream",
     "text": [
      "Multiples of 3 between 1 and 14 = 3 6 9 12\n",
      "Number of multiples = 4\n"
     ]
    }
   ],
   "source": [
    "# 선생님 풀이3\n",
    "\n",
    "# 출력\n",
    "print(f'Multiples of {n2} between 1 and {n1} =', ' '.join(map(str, multiples)))\n",
    "print('Number of multiples =', len(multiples))"
   ]
  },
  {
   "cell_type": "code",
   "execution_count": 7,
   "id": "2658300c",
   "metadata": {},
   "outputs": [
    {
     "name": "stdout",
     "output_type": "stream",
     "text": [
      "Multiples of 3 between 1 and 14 = 3 6 9 12\n",
      "Number of multiples = 4\n"
     ]
    }
   ],
   "source": [
    "# 출력\n",
    "print(f'Multiples of {n2} between 1 and {n1} =', *multiples)\n",
    "print('Number of multiples =', len(multiples))"
   ]
  },
  {
   "cell_type": "code",
   "execution_count": 8,
   "id": "1df8e5fd",
   "metadata": {},
   "outputs": [
    {
     "name": "stdout",
     "output_type": "stream",
     "text": [
      "Multiples of 3 between 1 and 14 = 3 6 9 12\n",
      "Number of multiples = 4\n"
     ]
    }
   ],
   "source": [
    "# range 함수로 1부터 n1까지의 자연수들 중에서 n2의 배수들의 묶음을 생성\n",
    "multiples = range(n2, n1+1, n2)\n",
    "\n",
    "# 출력\n",
    "print(f'Multiples of {n2} between 1 and {n1} =', *multiples)\n",
    "print('Number of multiples =', len(multiples))"
   ]
  }
 ],
 "metadata": {
  "kernelspec": {
   "display_name": "Python 3",
   "language": "python",
   "name": "python3"
  },
  "language_info": {
   "codemirror_mode": {
    "name": "ipython",
    "version": 3
   },
   "file_extension": ".py",
   "mimetype": "text/x-python",
   "name": "python",
   "nbconvert_exporter": "python",
   "pygments_lexer": "ipython3",
   "version": "3.14.0"
  }
 },
 "nbformat": 4,
 "nbformat_minor": 5
}
