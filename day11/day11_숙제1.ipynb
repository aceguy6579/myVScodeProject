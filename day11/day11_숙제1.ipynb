{
 "cells": [
  {
   "cell_type": "markdown",
   "id": "c3147f55",
   "metadata": {},
   "source": [
    "# 1교시\n",
    "\n",
    "# 숙제1 : 사용자가 숫자 0을 입력할 때까지, 분을 입력받아 시간과 분으로 나눠 출력하기"
   ]
  },
  {
   "cell_type": "code",
   "execution_count": null,
   "id": "102366a8",
   "metadata": {},
   "outputs": [
    {
     "name": "stdout",
     "output_type": "stream",
     "text": [
      "Good Bye!\n"
     ]
    }
   ],
   "source": [
    "# 내 숙제1 답안\n",
    "\n",
    "q = int(input('Enter two positive integers: '))\n",
    "\n",
    "minute = q % 60\n",
    "hour = q // 60\n",
    "\n",
    "if q > 0:\n",
    "    print(f'{q} miunutes = {hour} hour {minute} minutes')\n",
    "else:\n",
    "    print('Good Bye!')"
   ]
  },
  {
   "cell_type": "code",
   "execution_count": 3,
   "id": "969502f7",
   "metadata": {},
   "outputs": [
    {
     "name": "stdout",
     "output_type": "stream",
     "text": [
      "110 minutes = 1 hours50 minutes\n",
      "\n",
      "120 minutes = 2 hours\n",
      " Good bye!\n"
     ]
    }
   ],
   "source": [
    "# 선생님 숙제1 답안\n",
    "\n",
    "# 무한 반복으로 사용자가 0을 입력할 때까지 반복문을 수행\n",
    "\n",
    "while True:\n",
    "    # 사용자 입력\n",
    "    num = int(input('Enter minutes: '))\n",
    "\n",
    "    # 사용자가 입력한 정수가 0이면, 즉 변수 num이 0이면 반복문을 종료\n",
    "    if num == 0:\n",
    "        break\n",
    "\n",
    "    # 사용자가 입력한 \"분\"으로 \"시간\"과 \"분\"을 계산\n",
    "    hours = num // 60\n",
    "    minutes = num % 60\n",
    "\n",
    "    # 출력\n",
    "    print(f'{num} minutes = ', end='')\n",
    "\n",
    "    # \"시간\"을 출력\n",
    "    # 1. 변수 hours가 1인 경우\n",
    "    # 2. 변수 hours가 1보다 큰 경우\n",
    "    if hours == 1:\n",
    "        print(f'{hours} hours', end='')\n",
    "    elif hours > 1:\n",
    "        print(f'{hours} hours', end='')\n",
    "\n",
    "    # not hours == 1\n",
    "    # hours != 1\n",
    "\n",
    "    # \"분\"을 출력\n",
    "    # 1. 변수 minutes가 1인 경우\n",
    "    # 2. 변수 minutes가 1보다 큰 경우\n",
    "    if minutes == 1:\n",
    "        print(f'{minutes} minute', end='')\n",
    "    elif minutes > 1:\n",
    "        print(f'{minutes} minutes', end='')\n",
    "\n",
    "        print('\\n')\n",
    "\n",
    "# 종료 메시지 출력\n",
    "print('\\n', 'Good bye!')"
   ]
  },
  {
   "cell_type": "code",
   "execution_count": 4,
   "id": "4cdb7890",
   "metadata": {},
   "outputs": [
    {
     "name": "stdout",
     "output_type": "stream",
     "text": [
      "70 minutes = 1 hour 10 minutes\n",
      "\n",
      "30 minutes = 30 minutes\n",
      "\n",
      "400 minutes = 6 hours 40 minutes\n",
      "\n",
      "290 minutes = 4 hours 50 minutes\n",
      "\n",
      "270 minutes = 4 hours 30 minutes\n",
      "\n",
      "Good bye!\n"
     ]
    }
   ],
   "source": [
    "# 선생님 숙제1 답안\n",
    "\n",
    "# 무한 반복(infinite loop)으로 사용자가 0을 입력할 때까지 반복문을 수행\n",
    "\n",
    "while True:\n",
    "    # 사용자 입력\n",
    "    num = int(input('Enter minutes: '))\n",
    "\n",
    "    # 사용자가 입력한 정수가 0이면, 즉 변수 num이 0이면 반복문을 종료\n",
    "    if num == 0:\n",
    "        break\n",
    "\n",
    "    # 사용자가 입력한 \"분\"으로 \"시간\"과 \"분\"을 계산\n",
    "    hours = num // 60\n",
    "    minutes = num % 60\n",
    "\n",
    "    # 출력할 \"시간\"과 \"분\"에 해당하는 문자열\n",
    "    str_hours = ''\n",
    "    str_minutes = ''\n",
    "\n",
    "    # \"시간\"을 출력\n",
    "    # 1. 변수 hours가 1인 경우\n",
    "    # 2. 변수 hours가 1보다 큰 경우\n",
    "    if hours == 1:\n",
    "        str_hours = f'{hours} hour '\n",
    "    elif hours > 1:\n",
    "        str_hours = f'{hours} hours '\n",
    "\n",
    "    # \"분\"을 출력\n",
    "    # 1. 변수 minutes가 1인 경우\n",
    "    # 2. 변수 minutes가 1보다 큰 경우\n",
    "    if minutes == 1:\n",
    "        str_minutes = f'{minutes} minute'\n",
    "    elif minutes > 1:\n",
    "        str_minutes = f'{minutes} minutes'\n",
    "\n",
    "        print(f'{num} minutes = {str_hours}{str_minutes}\\n')\n",
    "\n",
    "# 종료 메시지 출력\n",
    "print('Good bye!')"
   ]
  },
  {
   "cell_type": "code",
   "execution_count": 11,
   "id": "0b6bb8b7",
   "metadata": {},
   "outputs": [
    {
     "name": "stdout",
     "output_type": "stream",
     "text": [
      "70 minutes = 1 hour10 minutes\n",
      "\n",
      "80 minutes = 1 hour20 minutes\n",
      "\n",
      "300 minutes = 5 hours\n",
      "\n",
      "400 minutes = 6 hours40 minutes\n",
      "\n",
      "500 minutes = 8 hours20 minutes\n",
      "\n",
      "Good bye!\n"
     ]
    },
    {
     "data": {
      "text/plain": [
       "\"\\n    if minutes > 0:\\n        if minutes == 1:\\n        print(f'{minutes} minute', end='', )\\n    else:\\n        print(f'{minutes} minutes', end='', )\\n\""
      ]
     },
     "execution_count": 11,
     "metadata": {},
     "output_type": "execute_result"
    }
   ],
   "source": [
    "# 선생님 숙제1 답안\n",
    "\n",
    "# 무한 반복으로 사용자가 0을 입력할 때까지 반복문을 수행\n",
    "while True:\n",
    "    # 사용자 입력\n",
    "    num = int(input('Enter minutes: '))\n",
    "\n",
    "    # 사용자가 입력한 정수가 0이면, 즉 변수 num이 0이면 반복문을 종료\n",
    "    if num == 0:\n",
    "        break\n",
    "\n",
    "    # 사용자가 입력한 \"분\"으로 \"시간\"과 \"분\"을 계산\n",
    "    hours = num // 60\n",
    "    minutes = num % 60\n",
    "\n",
    "    # 출력할 \"시간\"과 \"분\"에 해당하는 문자열\n",
    "    str_hours = ''\n",
    "    str_minutes = ''\n",
    "\n",
    "    # \"시간\"을 출력\n",
    "    # 1. 변수 hours가 1인 경우\n",
    "    # 2. 변수 hours가 1보다 큰 경우\n",
    "    if hours > 0:\n",
    "        # str_hours = f'{hours} hour ' if hours == 1 else f'{hours} hours'\n",
    "        str_hours = f\"{hours} hour{'s' if hours > 1 else ''}\"\n",
    "\n",
    "    if minutes > 0:\n",
    "        str_minutes = f\"{minutes} minute{'s' if minutes > 1 else ''}\"\n",
    "\n",
    "    print(f'{num} minutes = {str_hours}{str_minutes}\\n')\n",
    "\n",
    "# 종료 메시지 출력\n",
    "print('Good bye!')\n",
    "\n",
    "\"\"\"\n",
    "    if minutes > 0:\n",
    "        if minutes == 1:\n",
    "        print(f'{minutes} minute', end='', )\n",
    "    else:\n",
    "        print(f'{minutes} minutes', end='', )\n",
    "\"\"\""
   ]
  }
 ],
 "metadata": {
  "kernelspec": {
   "display_name": "Python 3",
   "language": "python",
   "name": "python3"
  },
  "language_info": {
   "codemirror_mode": {
    "name": "ipython",
    "version": 3
   },
   "file_extension": ".py",
   "mimetype": "text/x-python",
   "name": "python",
   "nbconvert_exporter": "python",
   "pygments_lexer": "ipython3",
   "version": "3.14.0"
  }
 },
 "nbformat": 4,
 "nbformat_minor": 5
}
