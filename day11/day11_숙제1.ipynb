{
 "cells": [
  {
   "cell_type": "markdown",
   "id": "c3147f55",
   "metadata": {},
   "source": [
    "# 1교시\n",
    "\n",
    "# 숙제1 : 사용자가 숫자 0을 입력할 때까지, 분을 입력받아 시간과 분으로 나눠 출력하기"
   ]
  },
  {
   "cell_type": "code",
   "execution_count": null,
   "id": "102366a8",
   "metadata": {},
   "outputs": [
    {
     "name": "stdout",
     "output_type": "stream",
     "text": [
      "Good Bye!\n"
     ]
    }
   ],
   "source": [
    "# 내 숙제1 답안\n",
    "\n",
    "q = int(input('Enter two positive integers: '))\n",
    "\n",
    "minute = q % 60\n",
    "hour = q // 60\n",
    "\n",
    "if q > 0:\n",
    "    print(f'{q} miunutes = {hour} hour {minute} minutes')\n",
    "else:\n",
    "    print('Good Bye!')"
   ]
  },
  {
   "cell_type": "code",
   "execution_count": null,
   "id": "969502f7",
   "metadata": {},
   "outputs": [
    {
     "name": "stdout",
     "output_type": "stream",
     "text": [
      "30 minutes30 minutes\n",
      "\n",
      "90 minutes1 hours30 minutes\n",
      "\n",
      "100 minutes1 hours40 minutes\n",
      "\n",
      "Good bye!\n"
     ]
    },
    {
     "data": {
      "text/plain": [
       "\"\\n    if minutes > 0:\\n        if minutes == 1:\\n        print(f'{minutes} minute', end='', )\\n    else:\\n        print(f'{minutes} minutes', end='', )\\n\""
      ]
     },
     "execution_count": 6,
     "metadata": {},
     "output_type": "execute_result"
    }
   ],
   "source": [
    "# 선생님 숙제1 답안\n",
    "\n",
    "# 무한 반복으로 사용자가 0을 입력할 때까지 반복문을 수행\n",
    "\n",
    "while True:\n",
    "    # 사용자 입력\n",
    "    num = int(input('Enter minutes: '))\n",
    "\n",
    "    # 사용자가 입력한 정수가 0이면, 즉 변수 num이 0이면 반복문을 종료\n",
    "    if num == 0:\n",
    "        break\n",
    "\n",
    "    # 사용자가 입력한 \"분\"으로 \"시간\"과 \"분\"을 계산\n",
    "    hours = num // 60\n",
    "    minutes = num % 60\n",
    "\n",
    "    # 출력\n",
    "    print(f'{num} minutes', end='')\n",
    "\n",
    "    # \"시간\"을 출력\n",
    "    # 1. 변수 hours가 1인 경우\n",
    "    # 2. 변수 hours가 1보다 큰 경우\n",
    "    if hours == 1:\n",
    "        print(f'{hours} hours', end='')\n",
    "    elif hours > 1:\n",
    "        print(f'{hours} hours', end='')\n",
    "\n",
    "    # not hours == 1\n",
    "    # hours != 1\n",
    "\n",
    "    # \"분\"을 출력\n",
    "    # 1. 변수 minutes가 1인 경우\n",
    "    # 2. 변수 minutes가 1보다 큰 경우\n",
    "    if minutes == 1:\n",
    "        print(f'{minutes} minute', end='', )\n",
    "    elif minutes > 1:\n",
    "        print(f'{minutes} minutes', end='', )\n",
    "\n",
    "        print('\\n')\n",
    "\n",
    "# 종료 메시지 출력\n",
    "print('Good bye!')\n",
    "\n",
    "\"\"\"\n",
    "    if minutes > 0:\n",
    "        if minutes == 1:\n",
    "        print(f'{minutes} minute', end='', )\n",
    "    else:\n",
    "        print(f'{minutes} minutes', end='', )\n",
    "\"\"\""
   ]
  },
  {
   "cell_type": "code",
   "execution_count": 7,
   "id": "4cdb7890",
   "metadata": {},
   "outputs": [
    {
     "name": "stdout",
     "output_type": "stream",
     "text": [
      "90 minutes1 hours30 minutes90 minutes = \n",
      "\n",
      "100 minutes1 hours40 minutes100 minutes = \n",
      "\n",
      "Good bye!\n"
     ]
    },
    {
     "data": {
      "text/plain": [
       "\"\\n    if minutes > 0:\\n        if minutes == 1:\\n        print(f'{minutes} minute', end='', )\\n    else:\\n        print(f'{minutes} minutes', end='', )\\n\""
      ]
     },
     "execution_count": 7,
     "metadata": {},
     "output_type": "execute_result"
    }
   ],
   "source": [
    "# 선생님 숙제1 답안\n",
    "\n",
    "# 무한 반복으로 사용자가 0을 입력할 때까지 반복문을 수행\n",
    "\n",
    "while True:\n",
    "    # 사용자 입력\n",
    "    num = int(input('Enter minutes: '))\n",
    "\n",
    "    # 사용자가 입력한 정수가 0이면, 즉 변수 num이 0이면 반복문을 종료\n",
    "    if num == 0:\n",
    "        break\n",
    "\n",
    "    # 사용자가 입력한 \"분\"으로 \"시간\"과 \"분\"을 계산\n",
    "    hours = num // 60\n",
    "    minutes = num % 60\n",
    "\n",
    "    # 출력\n",
    "    print(f'{num} minutes', end='')\n",
    "\n",
    "    # 출력할 \"시간\"과 \"분\"에 해당하는 문자열\n",
    "    str_hours = ''\n",
    "    str_minutes = ''\n",
    "\n",
    "    # \"시간\"을 출력\n",
    "    # 1. 변수 hours가 1인 경우\n",
    "    # 2. 변수 hours가 1보다 큰 경우\n",
    "    if hours == 1:\n",
    "        print(f'{hours} hours', end='')\n",
    "    elif hours > 1:\n",
    "        print(f'{hours} hours', end='')\n",
    "\n",
    "    # not hours == 1\n",
    "    # hours != 1\n",
    "\n",
    "    # \"분\"을 출력\n",
    "    # 1. 변수 minutes가 1인 경우\n",
    "    # 2. 변수 minutes가 1보다 큰 경우\n",
    "    if minutes == 1:\n",
    "        print(f'{minutes} minute', end='', )\n",
    "    elif minutes > 1:\n",
    "        print(f'{minutes} minutes', end='', )\n",
    "\n",
    "        print(f'{num} minutes = {str_hours}{str_minutes}\\n')\n",
    "\n",
    "# 종료 메시지 출력\n",
    "print('Good bye!')\n",
    "\n",
    "\"\"\"\n",
    "    if minutes > 0:\n",
    "        if minutes == 1:\n",
    "        print(f'{minutes} minute', end='', )\n",
    "    else:\n",
    "        print(f'{minutes} minutes', end='', )\n",
    "\"\"\""
   ]
  },
  {
   "cell_type": "code",
   "execution_count": null,
   "id": "0b6bb8b7",
   "metadata": {},
   "outputs": [
    {
     "ename": "IndentationError",
     "evalue": "unexpected indent (3558381096.py, line 42)",
     "output_type": "error",
     "traceback": [
      "  \u001b[36mCell\u001b[39m\u001b[36m \u001b[39m\u001b[32mIn[8]\u001b[39m\u001b[32m, line 42\u001b[39m\n\u001b[31m    \u001b[39m\u001b[31mif minutes > 0:\u001b[39m\n    ^\n\u001b[31mIndentationError\u001b[39m\u001b[31m:\u001b[39m unexpected indent\n"
     ]
    }
   ],
   "source": [
    "# 선생님 숙제1 답안\n",
    "\n",
    "# 무한 반복으로 사용자가 0을 입력할 때까지 반복문을 수행\n",
    "\n",
    "while True:\n",
    "    # 사용자 입력\n",
    "    num = int(input('Enter minutes: '))\n",
    "\n",
    "    # 사용자가 입력한 정수가 0이면, 즉 변수 num이 0이면 반복문을 종료\n",
    "    if num == 0:\n",
    "        break\n",
    "\n",
    "    # 사용자가 입력한 \"분\"으로 \"시간\"과 \"분\"을 계산\n",
    "    hours = num // 60\n",
    "    minutes = num % 60\n",
    "\n",
    "    # 출력\n",
    "    print(f'{num} minutes', end='')\n",
    "\n",
    "    # 출력할 \"시간\"과 \"분\"에 해당하는 문자열\n",
    "    str_hours = ''\n",
    "    str_minutes = ''\n",
    "\n",
    "    # \"시간\"을 출력\n",
    "    # 1. 변수 hours가 1인 경우\n",
    "    # 2. 변수 hours가 1보다 큰 경우\n",
    "    if hours > 0:\n",
    "        # str_hours = f'{hours} hour ' if hours == 1 else f'{hours} hours'\n",
    "        str_hours = f'{hours} hour {'s' if hours > 1 else ''}'\n",
    "\n",
    "\"\"\"        print(f'{hours} hours', end='')\n",
    "    elif hours > 1:\n",
    "        print(f'{hours} hours', end='')\n",
    "\"\"\"\n",
    "\n",
    "    # not hours == 1\n",
    "    # hours != 1\n",
    "\n",
    "    # \"분\"을 출력\n",
    "    # 1. 변수 minutes가 1인 경우\n",
    "    # 2. 변수 minutes가 1보다 큰 경우\n",
    "    if minutes > 0:\n",
    "        str_minutes = f'{minutes} minute{'s' if minutes > 1 else ''}'\n",
    "\n",
    "    print(f'{num} minutes = {str_hours}{str_minutes}\\n')\n",
    "\n",
    "\n",
    "# 종료 메시지 출력\n",
    "print('Good bye!')\n",
    "\n",
    "\"\"\"\n",
    "    if minutes > 0:\n",
    "        if minutes == 1:\n",
    "        print(f'{minutes} minute', end='', )\n",
    "    else:\n",
    "        print(f'{minutes} minutes', end='', )\n",
    "\"\"\""
   ]
  }
 ],
 "metadata": {
  "kernelspec": {
   "display_name": "Python 3",
   "language": "python",
   "name": "python3"
  },
  "language_info": {
   "codemirror_mode": {
    "name": "ipython",
    "version": 3
   },
   "file_extension": ".py",
   "mimetype": "text/x-python",
   "name": "python",
   "nbconvert_exporter": "python",
   "pygments_lexer": "ipython3",
   "version": "3.14.0"
  }
 },
 "nbformat": 4,
 "nbformat_minor": 5
}
