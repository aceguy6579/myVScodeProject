{
 "cells": [
  {
   "cell_type": "markdown",
   "id": "613c0fd1",
   "metadata": {},
   "source": [
    "# 숙제2 : 사용자에게 자연수 2개를 입력받아 그 2개 사이에 있는 자연수들 중 1의 자리가 3과 8인 자연수들을 출력한다.\n",
    "\n",
    "# 내 답안"
   ]
  },
  {
   "cell_type": "code",
   "execution_count": null,
   "id": "29761327",
   "metadata": {},
   "outputs": [
    {
     "name": "stdout",
     "output_type": "stream",
     "text": [
      "n1 = 3, n2 = 15 \n",
      "\n",
      "3\n",
      "8\n"
     ]
    }
   ],
   "source": [
    "# 프로토타입1 : 1과 10을 입력했을 때 3, 8 출력\n",
    "\n",
    "n1, n2 = map(int, input('Enter two positive integers: ').split())\n",
    "\n",
    "print(f'n1 = {n1}, n2 = {n2}', '\\n')\n",
    "\n",
    "\n",
    "\n",
    "for i in range(n1, n2+1):\n",
    "    if i == 3 or i == 8:\n",
    "        print(i)\n"
   ]
  },
  {
   "cell_type": "code",
   "execution_count": null,
   "id": "a965e229",
   "metadata": {},
   "outputs": [
    {
     "name": "stdout",
     "output_type": "stream",
     "text": [
      "3, 5\n"
     ]
    }
   ],
   "source": [
    "# 프로토타입2 : 10이상의 값을 입력했을 때 1의 자리만 출력\n",
    "\n",
    "n3, n4 = map(int, input('Enter two positive integers: ').split())\n",
    "\n",
    "if n3 >= 10:\n",
    "    n3 = n3 % 10\n",
    "else:\n",
    "    n3 = n3\n",
    "\n",
    "if n4 >= 10:\n",
    "    n4 = n4 % 10\n",
    "else:\n",
    "    n4 = n4\n",
    "\n",
    "print(f'{n3}, {n4}')"
   ]
  },
  {
   "cell_type": "code",
   "execution_count": null,
   "id": "d08645c8",
   "metadata": {},
   "outputs": [
    {
     "name": "stdout",
     "output_type": "stream",
     "text": [
      "n1 = 24, n2 = 9 \n",
      "\n",
      "13\n",
      "18\n",
      "23\n"
     ]
    }
   ],
   "source": [
    "# 프로토타입3 : 1의 자리가 3이나 8일때만 출력\n",
    "\n",
    "n1, n2 = map(int, input('Enter two positive integers: ').split())\n",
    "\n",
    "print(f'n1 = {n1}, n2 = {n2}', '\\n')\n",
    "\n",
    "if n2 > n1:\n",
    "    for i in range(n1, n2+1):\n",
    "        if i % 10 == 3 or i % 10 == 8:\n",
    "            print(i)\n",
    "elif n1 > n2:\n",
    "    for i in range(n2, n1+1):\n",
    "        if i % 10 == 3 or i % 10 == 8:\n",
    "            print(i)\n"
   ]
  },
  {
   "cell_type": "markdown",
   "id": "672df1f9",
   "metadata": {},
   "source": [
    "# 사용자에게 자연수 2개를 입력 받아, 두 자연수 사이에 있는 자연수들 중에서 1의 자리가 3 또는 8인 자연수를 출력\n",
    "\n",
    "# 선생님 답안"
   ]
  },
  {
   "cell_type": "code",
   "execution_count": null,
   "id": "21e43e9b",
   "metadata": {},
   "outputs": [
    {
     "name": "stdout",
     "output_type": "stream",
     "text": [
      "n1 = 24, n2 = 9 \n",
      "\n",
      "13 18 23 \n"
     ]
    }
   ],
   "source": [
    "# 풀이1\n",
    "\n",
    "# 사용자 입력\n",
    "\n",
    "n1, n2 = map(int, input('Enter two positive integers: ').split())\n",
    "\n",
    "print(f'n1 = {n1}, n2 = {n2}', '\\n')\n",
    "\n",
    "# 변수 n1과 n2 중에서 큰 수와 작은 수를 확인\n",
    "max_, min_ = max(n1, n2), min(n1, n2)\n",
    "\n",
    "# for 구문과 range 함수로 변수 min_과 max_ 사이의 자연수를 차례대로 확인\n",
    "for i in range(min_, max_ + 1):\n",
    "    # 변수 i의 1의 자릿수가 \n",
    "    if i % 10 == 3 or i % 10 == 8:\n",
    "        print(i, end=' ')\n",
    "\n",
    "# 출력이 끝나면 줄 바꿈\n",
    "print()"
   ]
  },
  {
   "cell_type": "code",
   "execution_count": null,
   "id": "1b491e12",
   "metadata": {},
   "outputs": [
    {
     "name": "stdout",
     "output_type": "stream",
     "text": [
      "13 18 23 \n"
     ]
    }
   ],
   "source": [
    "# 풀이2\n",
    "\n",
    "# for 구문과 range 함수로 변수 min_과 max_ 사이의 자연수를 차례대로 확인\n",
    "for i in range(min_, max_ + 1):\n",
    "    # 변수 i의 1의 자릿수가 \n",
    "    digit = i % 10\n",
    "\n",
    "    # 변수 i의 1의 자릿수가 3 또는 8이면 출력\n",
    "    if digit == 3 or digit == 8:\n",
    "        print(i, end=' ')\n",
    "\n",
    "# 출력이 끝나면 줄 바꿈\n",
    "print()"
   ]
  },
  {
   "cell_type": "code",
   "execution_count": null,
   "id": "4d8b67ad",
   "metadata": {},
   "outputs": [],
   "source": [
    "# 풀이2\n",
    "\n",
    "# for 구문과 range 함수로 변수 min_과 max_ 사이의 자연수를 차례대로 확인\n",
    "for i in range(min_, max_ + 1):\n",
    "\n",
    "    # 변수 i의 1의 자릿수가 3 또는 8이면 출력\n",
    "    if i % 10 in (3, 8):\n",
    "        print(i, end=' ')\n",
    "\n",
    "# 출력이 끝나면 줄 바꿈\n",
    "print()"
   ]
  }
 ],
 "metadata": {
  "kernelspec": {
   "display_name": "Python 3",
   "language": "python",
   "name": "python3"
  },
  "language_info": {
   "codemirror_mode": {
    "name": "ipython",
    "version": 3
   },
   "file_extension": ".py",
   "mimetype": "text/x-python",
   "name": "python",
   "nbconvert_exporter": "python",
   "pygments_lexer": "ipython3",
   "version": "3.14.0"
  }
 },
 "nbformat": 4,
 "nbformat_minor": 5
}
