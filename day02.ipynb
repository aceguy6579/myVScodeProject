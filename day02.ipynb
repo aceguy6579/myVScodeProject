{
 "cells": [
  {
   "cell_type": "markdown",
   "id": "dfb08f85",
   "metadata": {},
   "source": [
    "## 연습 문제\n",
    "\n",
    "가로 25, 세로 15인 직사각형의 넓이와 둘레를 구해 출력"
   ]
  },
  {
   "cell_type": "code",
   "execution_count": null,
   "id": "25e02d44",
   "metadata": {},
   "outputs": [
    {
     "name": "stdout",
     "output_type": "stream",
     "text": [
      "area = 375\n",
      "perimeter = 80\n"
     ]
    }
   ],
   "source": [
    "x, y = 25, 15\n",
    "print('area =', x*y)\n",
    "print('perimeter =', 2*(x+y))"
   ]
  },
  {
   "cell_type": "code",
   "execution_count": null,
   "id": "62b94583",
   "metadata": {},
   "outputs": [
    {
     "name": "stdout",
     "output_type": "stream",
     "text": [
      "넓이 =  58.5\n"
     ]
    }
   ],
   "source": [
    "xx = 13\n",
    "yy = 9\n",
    "print('넓이 = ', (xx * yy)/2)"
   ]
  }
 ],
 "metadata": {
  "kernelspec": {
   "display_name": "Python 3",
   "language": "python",
   "name": "python3"
  },
  "language_info": {
   "codemirror_mode": {
    "name": "ipython",
    "version": 3
   },
   "file_extension": ".py",
   "mimetype": "text/x-python",
   "name": "python",
   "nbconvert_exporter": "python",
   "pygments_lexer": "ipython3",
   "version": "3.14.0"
  }
 },
 "nbformat": 4,
 "nbformat_minor": 5
}
